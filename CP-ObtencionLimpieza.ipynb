{
 "cells": [
  {
   "cell_type": "markdown",
   "metadata": {},
   "source": [
    "# Análisis y visualización de datos abiertos con python\n",
    "\n",
    "Analizar dos conjuntos de datos abiertos de la Ciudad de México (Carpetas de investigación PGJ y Víctimas en carpetas de investigación PGJ) usando las herramientas del lenguaje de programación python. El participante aprenderá a usar las bibliotecas pandas, seaborn y otras bibliotecas para cargar, estructurar, obtener estadísticas básicas y graficar los datos. Además, el participante aplicará metodologías y criterios de análisis y visualización de datos, que le permitan generar conclusiones sobre los conjuntos de datos analizados.\n",
    "\n",
    "1. Obtención de datos\n",
    "    1. Instalación de conda\n",
    "    2. Descargar datos abiertos\n",
    "    3. ¿Qué es un dato?\n",
    "    4. Cargar los datos en python\n",
    "2. Limpieza de datos\n",
    "    1. Pasos de un análisis de datos\n",
    "    2. pandas_profiling\n",
    "    3. Operaciones básicas de pandas\n",
    "    4. Limpieza de datos\n",
    "3. Análisis de datos\n",
    "    1. Medidas estadísticas\n",
    "    2. Tablas pivote\n",
    "    3. Agrupar y agregar\n",
    "    4. Unir tablas\n",
    "4. Gráficación\n",
    "    1. Introducción a la teoría de la visualización\n",
    "    2. Graficación con pandas\n",
    "    3. Graficación con seaborn\n"
   ]
  },
  {
   "cell_type": "markdown",
   "metadata": {},
   "source": [
    "## 1. Obtención de datos\n",
    "\n",
    "### 1.1 Instalación de conda\n",
    "Ver las instrucciones en https://www.anaconda.com/distribution/\n",
    "\n",
    "#### Ejercicio\n",
    "Crea una carpeta para este curso y abre jupyter notebook en conda"
   ]
  },
  {
   "cell_type": "markdown",
   "metadata": {},
   "source": [
    "### 1.2 Descargar datos abiertos\n",
    "En este tutorial usaremos dos conjuntos de datos sobre carpetas de investigación y víctimas de la PGJ de la CdMx. Estos datos se encuentran en la página [Datos abiertos del gobierno de la Ciudad de México](https://datos.cdmx.gob.mx/pages/home/), la cual contiene conjuntos de datos de múltiples temas como justicia, transporte y rendición de cuentas.\n",
    "\n",
    "Si accedemos al conjunto de datos podemos ver que tiene varias secciones:\n",
    "* Información: describe el conjunto de datos, esta sección es de suma importancia para entender los datos con los que estamos trabajando\n",
    "* Tabla: esta sección contiene una vista de los datos en forma tabular, cada fila es una medición\n",
    "* Análizar: una serie de herramientas para realizar gráficas y explorar los datos\n",
    "* Mapa: cuando el conjunto de datos incluye información sobre localización (coordenadas) esto permite hacer mapas para ver el comportamiento de los datos en el espacio\n",
    "* Exportar: formatos para descargar los datos, en este caso usaremos el formato csv\n",
    "* API: una forma programática de acceder a los datos\n",
    "\n",
    "<img src=\"images/CP-CarpetasTabla.png\">\n",
    "\n",
    "En este caso vamos a usar dos conjuntos de datos, el de [Carpetas de investigación PGJ de la Ciudad de México (archivo)](https://datos.cdmx.gob.mx/explore/dataset/carpetas-de-investigacion-pgj-cdmx/) y el de [Víctimas en carpetas de investigación PGJ (archivo) ](https://datos.cdmx.gob.mx/explore/dataset/denuncias-victimas-pgj/). \n",
    "Las __Carpetas de investigación__ registran los \"delitos a nivel calle\" de enero de 2016 a junio de 2019, por otro lado, las __Victimas__ registran información de las víctimas de los delitos de esas carpetas de enero de 2019 a septiembre 2019. Esto implica que nuestros conjuntos de datos tienen una serie de limitaciones:\n",
    "* Solo incluyen delitos reportados a la PGJ sobre los cuales se abrió carpeta de investigación\n",
    "* Utilizán la vieja metodología de clasificación de delitos\n",
    "* Están sujetos a errores de muestro y otros sesgos (ocultamiento de delitos, etc)\n",
    "* Solo se pueden comparar los datos de seis meses de ambos conjuntos de datos\n",
    "\n",
    "Para descargar los datos iremos a la sección de exportar y descargaremos el archivo en formato _.csv_.\n",
    "\n",
    "<img src=\"images/CP-CarpetasDescarga.png\">\n",
    "\n",
    "Para organizar la información y nuestro espació de trabajo haremos una carpeta dobre el curso (en mi computadora esta se llama ´CursoPandas´). Dentro de esta carpeta organizaremos todos nuestros archivos. Esta carpeta contiene:\n",
    "* __Código__ en este caso jupter notebooks que son los archivos en formato .ipynb\n",
    "* __data-raw__ carpeta donde pondremos los archivos de datos originales como los _.csv_ descargados\n",
    "* __data-clean__ carpeta donde pondremos los archivos de datos que vayamos limpiando y generando\n",
    "* __images__ carpeta con las imagenes que queramos guardar\n",
    "\n",
    "#### Ejercicio\n",
    "Descarga el conjunto de datos de víctimas y colocalo en la carpeta adecuada"
   ]
  },
  {
   "cell_type": "markdown",
   "metadata": {},
   "source": [
    "### ¿Qué es un dato?\n",
    "\n",
    "Algunas definiciones:\n",
    "\n",
    "* Variable: una medida o un atributo. Pueden ser fecha, lugar, altura, peso, sexo, etc.\n",
    "* Valor: la medida o atributo real. 10 de mayo, México, 152 cm, 80 kg, hembra, etc.\n",
    "* Observación: Todos los valores miden en la misma unidad. Cada persona.\n",
    "* Dato: representación simbólica de un atributo o variable cuantitativa o cualitativa.\n",
    "\n",
    "Las tablas que proporciona el gobierno se consideran conjuntos de [datos ordenados](http://vita.had.co.nz/papers/tidy-data.pdf), esto quiere decir que:\n",
    "* Cada variable forma una columna y contiene valores\n",
    "* Cada observación forma una fila\n",
    "* Cada tipo de unidad de observación forma una tabla\n",
    "\n",
    "#### Ejercicio\n",
    "Identifica cada una de las definiciones y de las características anteriormente descritas en __Victimas__ en la sección de [tabla](https://datos.cdmx.gob.mx/explore/dataset/denuncias-victimas-pgj/table/)."
   ]
  },
  {
   "cell_type": "markdown",
   "metadata": {},
   "source": [
    "### Cargar los datos en python\n",
    "\n",
    "Ahora que los datos ya estan en la computadora podemos abrirlos usando python para empezar a trabajar con ellos.\n",
    "\n",
    "Necesitamos un jupyter notebook en la carpeta de trabajo y que los archivos esten en la carpeta \"data-raw\". A continuación cargaremos la biblioteca de pandas para trabajar con la tabla de datos y cargaremos los archivos.\n"
   ]
  },
  {
   "cell_type": "code",
   "execution_count": null,
   "metadata": {},
   "outputs": [],
   "source": [
    "import pandas as pd\n",
    "\n",
    "df_carpetas = pd.read_csv('data-raw/')\n"
   ]
  }
 ],
 "metadata": {
  "kernelspec": {
   "display_name": "Python 3",
   "language": "python",
   "name": "python3"
  },
  "language_info": {
   "codemirror_mode": {
    "name": "ipython",
    "version": 3
   },
   "file_extension": ".py",
   "mimetype": "text/x-python",
   "name": "python",
   "nbconvert_exporter": "python",
   "pygments_lexer": "ipython3",
   "version": "3.7.4"
  }
 },
 "nbformat": 4,
 "nbformat_minor": 4
}
