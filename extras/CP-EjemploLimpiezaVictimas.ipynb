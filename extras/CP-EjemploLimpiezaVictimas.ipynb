{
 "cells": [
  {
   "cell_type": "markdown",
   "metadata": {},
   "source": [
    "# Victimas: Limpieza de datos\n",
    "\n",
    "## Ejemplo\n",
    "Ve el siguiente notebook y escribe que hace cada celda y el porque."
   ]
  },
  {
   "cell_type": "code",
   "execution_count": 1,
   "metadata": {},
   "outputs": [],
   "source": [
    "import pandas as pd\n",
    "from numpy import nan"
   ]
  },
  {
   "cell_type": "markdown",
   "metadata": {},
   "source": [
    "#### Cargar datos"
   ]
  },
  {
   "cell_type": "code",
   "execution_count": 2,
   "metadata": {},
   "outputs": [
    {
     "name": "stdout",
     "output_type": "stream",
     "text": [
      "Index(['idCarpeta', 'Delito', 'Categoria', 'FechaHecho', 'Año_hecho',\n",
      "       'Mes_hecho', 'Sexo', 'Edad', 'TipoPersona', 'CalidadJuridica',\n",
      "       'ClasificacionDelito', 'lon', 'lat', 'geopoint'],\n",
      "      dtype='object')\n",
      "(145870, 14)\n"
     ]
    },
    {
     "data": {
      "text/html": [
       "<div>\n",
       "<style scoped>\n",
       "    .dataframe tbody tr th:only-of-type {\n",
       "        vertical-align: middle;\n",
       "    }\n",
       "\n",
       "    .dataframe tbody tr th {\n",
       "        vertical-align: top;\n",
       "    }\n",
       "\n",
       "    .dataframe thead th {\n",
       "        text-align: right;\n",
       "    }\n",
       "</style>\n",
       "<table border=\"1\" class=\"dataframe\">\n",
       "  <thead>\n",
       "    <tr style=\"text-align: right;\">\n",
       "      <th></th>\n",
       "      <th>idCarpeta</th>\n",
       "      <th>Delito</th>\n",
       "      <th>Categoria</th>\n",
       "      <th>FechaHecho</th>\n",
       "      <th>Año_hecho</th>\n",
       "      <th>Mes_hecho</th>\n",
       "      <th>Sexo</th>\n",
       "      <th>Edad</th>\n",
       "      <th>TipoPersona</th>\n",
       "      <th>CalidadJuridica</th>\n",
       "      <th>ClasificacionDelito</th>\n",
       "      <th>lon</th>\n",
       "      <th>lat</th>\n",
       "      <th>geopoint</th>\n",
       "    </tr>\n",
       "  </thead>\n",
       "  <tbody>\n",
       "    <tr>\n",
       "      <td>0</td>\n",
       "      <td>8417090</td>\n",
       "      <td>NARCOMENUDEO POSESION SIMPLE</td>\n",
       "      <td>DELITO DE BAJO IMPACTO</td>\n",
       "      <td>2019-05-01 16:30:00</td>\n",
       "      <td>2019.0</td>\n",
       "      <td>Mayo</td>\n",
       "      <td>NaN</td>\n",
       "      <td>NaN</td>\n",
       "      <td>MORAL</td>\n",
       "      <td>VICTIMA</td>\n",
       "      <td>FUERO COMUN</td>\n",
       "      <td>-99.040775</td>\n",
       "      <td>19.328346</td>\n",
       "      <td>19.3283464986,-99.0407749002</td>\n",
       "    </tr>\n",
       "    <tr>\n",
       "      <td>1</td>\n",
       "      <td>8417092</td>\n",
       "      <td>ROBO A NEGOCIO SIN VIOLENCIA</td>\n",
       "      <td>DELITO DE BAJO IMPACTO</td>\n",
       "      <td>2019-03-28 10:00:00</td>\n",
       "      <td>2019.0</td>\n",
       "      <td>Marzo</td>\n",
       "      <td>Masculino</td>\n",
       "      <td>NaN</td>\n",
       "      <td>FISICA</td>\n",
       "      <td>VICTIMA Y DENUNCIANTE</td>\n",
       "      <td>FUERO COMUN</td>\n",
       "      <td>-99.152571</td>\n",
       "      <td>19.402075</td>\n",
       "      <td>19.4020752972,-99.1525710006</td>\n",
       "    </tr>\n",
       "    <tr>\n",
       "      <td>2</td>\n",
       "      <td>8417092</td>\n",
       "      <td>ROBO A NEGOCIO SIN VIOLENCIA</td>\n",
       "      <td>DELITO DE BAJO IMPACTO</td>\n",
       "      <td>2019-03-28 10:00:00</td>\n",
       "      <td>2019.0</td>\n",
       "      <td>Marzo</td>\n",
       "      <td>NaN</td>\n",
       "      <td>NaN</td>\n",
       "      <td>MORAL</td>\n",
       "      <td>VICTIMA</td>\n",
       "      <td>FUERO COMUN</td>\n",
       "      <td>-99.152571</td>\n",
       "      <td>19.402075</td>\n",
       "      <td>19.4020752972,-99.1525710006</td>\n",
       "    </tr>\n",
       "    <tr>\n",
       "      <td>3</td>\n",
       "      <td>8417096</td>\n",
       "      <td>ROBO A NEGOCIO SIN VIOLENCIA</td>\n",
       "      <td>DELITO DE BAJO IMPACTO</td>\n",
       "      <td>2019-05-01 13:30:00</td>\n",
       "      <td>2019.0</td>\n",
       "      <td>Mayo</td>\n",
       "      <td>NaN</td>\n",
       "      <td>NaN</td>\n",
       "      <td>MORAL</td>\n",
       "      <td>VICTIMA</td>\n",
       "      <td>FUERO COMUN</td>\n",
       "      <td>-99.147046</td>\n",
       "      <td>19.434979</td>\n",
       "      <td>19.4349789028,-99.1470464003</td>\n",
       "    </tr>\n",
       "    <tr>\n",
       "      <td>4</td>\n",
       "      <td>8417097</td>\n",
       "      <td>VIOLENCIA FAMILIAR</td>\n",
       "      <td>DELITO DE BAJO IMPACTO</td>\n",
       "      <td>2019-04-30 18:30:00</td>\n",
       "      <td>2019.0</td>\n",
       "      <td>Abril</td>\n",
       "      <td>Femenino</td>\n",
       "      <td>36.0</td>\n",
       "      <td>FISICA</td>\n",
       "      <td>VICTIMA Y DENUNCIANTE</td>\n",
       "      <td>FUERO COMUN</td>\n",
       "      <td>-99.081784</td>\n",
       "      <td>19.257187</td>\n",
       "      <td>19.2571868053,-99.0817841843</td>\n",
       "    </tr>\n",
       "  </tbody>\n",
       "</table>\n",
       "</div>"
      ],
      "text/plain": [
       "   idCarpeta                        Delito               Categoria  \\\n",
       "0    8417090  NARCOMENUDEO POSESION SIMPLE  DELITO DE BAJO IMPACTO   \n",
       "1    8417092  ROBO A NEGOCIO SIN VIOLENCIA  DELITO DE BAJO IMPACTO   \n",
       "2    8417092  ROBO A NEGOCIO SIN VIOLENCIA  DELITO DE BAJO IMPACTO   \n",
       "3    8417096  ROBO A NEGOCIO SIN VIOLENCIA  DELITO DE BAJO IMPACTO   \n",
       "4    8417097            VIOLENCIA FAMILIAR  DELITO DE BAJO IMPACTO   \n",
       "\n",
       "            FechaHecho  Año_hecho Mes_hecho       Sexo  Edad TipoPersona  \\\n",
       "0  2019-05-01 16:30:00     2019.0      Mayo        NaN   NaN       MORAL   \n",
       "1  2019-03-28 10:00:00     2019.0     Marzo  Masculino   NaN      FISICA   \n",
       "2  2019-03-28 10:00:00     2019.0     Marzo        NaN   NaN       MORAL   \n",
       "3  2019-05-01 13:30:00     2019.0      Mayo        NaN   NaN       MORAL   \n",
       "4  2019-04-30 18:30:00     2019.0     Abril   Femenino  36.0      FISICA   \n",
       "\n",
       "         CalidadJuridica ClasificacionDelito        lon        lat  \\\n",
       "0                VICTIMA         FUERO COMUN -99.040775  19.328346   \n",
       "1  VICTIMA Y DENUNCIANTE         FUERO COMUN -99.152571  19.402075   \n",
       "2                VICTIMA         FUERO COMUN -99.152571  19.402075   \n",
       "3                VICTIMA         FUERO COMUN -99.147046  19.434979   \n",
       "4  VICTIMA Y DENUNCIANTE         FUERO COMUN -99.081784  19.257187   \n",
       "\n",
       "                       geopoint  \n",
       "0  19.3283464986,-99.0407749002  \n",
       "1  19.4020752972,-99.1525710006  \n",
       "2  19.4020752972,-99.1525710006  \n",
       "3  19.4349789028,-99.1470464003  \n",
       "4  19.2571868053,-99.0817841843  "
      ]
     },
     "execution_count": 2,
     "metadata": {},
     "output_type": "execute_result"
    }
   ],
   "source": [
    "df_victimas = pd.read_csv('../data-raw/denuncias-victimas-pgj.csv')\n",
    "print(df_victimas.columns)\n",
    "print(df_victimas.shape)\n",
    "df_victimas.head()"
   ]
  },
  {
   "cell_type": "markdown",
   "metadata": {},
   "source": [
    "#### pandas_profiling"
   ]
  },
  {
   "cell_type": "code",
   "execution_count": 3,
   "metadata": {},
   "outputs": [],
   "source": [
    "import pandas_profiling\n",
    "\n",
    "profile = df_victimas.tail(1000).profile_report(title='Victimas de carpetas de investigación')\n",
    "profile.to_file(output_file=\"../profiles/CP-victimas-short.html\")"
   ]
  },
  {
   "cell_type": "markdown",
   "metadata": {},
   "source": [
    "#### Quitar columnas"
   ]
  },
  {
   "cell_type": "code",
   "execution_count": 4,
   "metadata": {},
   "outputs": [
    {
     "data": {
      "text/html": [
       "<div>\n",
       "<style scoped>\n",
       "    .dataframe tbody tr th:only-of-type {\n",
       "        vertical-align: middle;\n",
       "    }\n",
       "\n",
       "    .dataframe tbody tr th {\n",
       "        vertical-align: top;\n",
       "    }\n",
       "\n",
       "    .dataframe thead th {\n",
       "        text-align: right;\n",
       "    }\n",
       "</style>\n",
       "<table border=\"1\" class=\"dataframe\">\n",
       "  <thead>\n",
       "    <tr style=\"text-align: right;\">\n",
       "      <th></th>\n",
       "      <th>delito</th>\n",
       "      <th>categoria_delito</th>\n",
       "      <th>fecha_hechos</th>\n",
       "      <th>Sexo</th>\n",
       "      <th>Edad</th>\n",
       "      <th>TipoPersona</th>\n",
       "      <th>CalidadJuridica</th>\n",
       "      <th>Geopoint</th>\n",
       "    </tr>\n",
       "  </thead>\n",
       "  <tbody>\n",
       "    <tr>\n",
       "      <td>0</td>\n",
       "      <td>NARCOMENUDEO POSESION SIMPLE</td>\n",
       "      <td>DELITO DE BAJO IMPACTO</td>\n",
       "      <td>2019-05-01 16:30:00</td>\n",
       "      <td>NaN</td>\n",
       "      <td>NaN</td>\n",
       "      <td>MORAL</td>\n",
       "      <td>VICTIMA</td>\n",
       "      <td>19.3283464986,-99.0407749002</td>\n",
       "    </tr>\n",
       "    <tr>\n",
       "      <td>1</td>\n",
       "      <td>ROBO A NEGOCIO SIN VIOLENCIA</td>\n",
       "      <td>DELITO DE BAJO IMPACTO</td>\n",
       "      <td>2019-03-28 10:00:00</td>\n",
       "      <td>Masculino</td>\n",
       "      <td>NaN</td>\n",
       "      <td>FISICA</td>\n",
       "      <td>VICTIMA Y DENUNCIANTE</td>\n",
       "      <td>19.4020752972,-99.1525710006</td>\n",
       "    </tr>\n",
       "    <tr>\n",
       "      <td>2</td>\n",
       "      <td>ROBO A NEGOCIO SIN VIOLENCIA</td>\n",
       "      <td>DELITO DE BAJO IMPACTO</td>\n",
       "      <td>2019-03-28 10:00:00</td>\n",
       "      <td>NaN</td>\n",
       "      <td>NaN</td>\n",
       "      <td>MORAL</td>\n",
       "      <td>VICTIMA</td>\n",
       "      <td>19.4020752972,-99.1525710006</td>\n",
       "    </tr>\n",
       "    <tr>\n",
       "      <td>3</td>\n",
       "      <td>ROBO A NEGOCIO SIN VIOLENCIA</td>\n",
       "      <td>DELITO DE BAJO IMPACTO</td>\n",
       "      <td>2019-05-01 13:30:00</td>\n",
       "      <td>NaN</td>\n",
       "      <td>NaN</td>\n",
       "      <td>MORAL</td>\n",
       "      <td>VICTIMA</td>\n",
       "      <td>19.4349789028,-99.1470464003</td>\n",
       "    </tr>\n",
       "    <tr>\n",
       "      <td>4</td>\n",
       "      <td>VIOLENCIA FAMILIAR</td>\n",
       "      <td>DELITO DE BAJO IMPACTO</td>\n",
       "      <td>2019-04-30 18:30:00</td>\n",
       "      <td>Femenino</td>\n",
       "      <td>36.0</td>\n",
       "      <td>FISICA</td>\n",
       "      <td>VICTIMA Y DENUNCIANTE</td>\n",
       "      <td>19.2571868053,-99.0817841843</td>\n",
       "    </tr>\n",
       "  </tbody>\n",
       "</table>\n",
       "</div>"
      ],
      "text/plain": [
       "                         delito        categoria_delito         fecha_hechos  \\\n",
       "0  NARCOMENUDEO POSESION SIMPLE  DELITO DE BAJO IMPACTO  2019-05-01 16:30:00   \n",
       "1  ROBO A NEGOCIO SIN VIOLENCIA  DELITO DE BAJO IMPACTO  2019-03-28 10:00:00   \n",
       "2  ROBO A NEGOCIO SIN VIOLENCIA  DELITO DE BAJO IMPACTO  2019-03-28 10:00:00   \n",
       "3  ROBO A NEGOCIO SIN VIOLENCIA  DELITO DE BAJO IMPACTO  2019-05-01 13:30:00   \n",
       "4            VIOLENCIA FAMILIAR  DELITO DE BAJO IMPACTO  2019-04-30 18:30:00   \n",
       "\n",
       "        Sexo  Edad TipoPersona        CalidadJuridica  \\\n",
       "0        NaN   NaN       MORAL                VICTIMA   \n",
       "1  Masculino   NaN      FISICA  VICTIMA Y DENUNCIANTE   \n",
       "2        NaN   NaN       MORAL                VICTIMA   \n",
       "3        NaN   NaN       MORAL                VICTIMA   \n",
       "4   Femenino  36.0      FISICA  VICTIMA Y DENUNCIANTE   \n",
       "\n",
       "                       Geopoint  \n",
       "0  19.3283464986,-99.0407749002  \n",
       "1  19.4020752972,-99.1525710006  \n",
       "2  19.4020752972,-99.1525710006  \n",
       "3  19.4349789028,-99.1470464003  \n",
       "4  19.2571868053,-99.0817841843  "
      ]
     },
     "execution_count": 4,
     "metadata": {},
     "output_type": "execute_result"
    }
   ],
   "source": [
    "df_victimas = df_victimas.drop(['idCarpeta', 'Año_hecho', 'Mes_hecho', 'ClasificacionDelito', 'lon', 'lat'], axis=1)\n",
    "df_victimas.columns = ['delito', 'categoria_delito', 'fecha_hechos', \n",
    "                       'Sexo', 'Edad', 'TipoPersona', 'CalidadJuridica', 'Geopoint']\n",
    "df_victimas.head()"
   ]
  },
  {
   "cell_type": "markdown",
   "metadata": {},
   "source": [
    "#### Cambiar tipos de datos"
   ]
  },
  {
   "cell_type": "code",
   "execution_count": 5,
   "metadata": {},
   "outputs": [],
   "source": [
    "df_victimas['fecha_hechos'] = pd.to_datetime(df_victimas['fecha_hechos'])"
   ]
  },
  {
   "cell_type": "markdown",
   "metadata": {},
   "source": [
    "#### Modificar campos de texto"
   ]
  },
  {
   "cell_type": "code",
   "execution_count": 6,
   "metadata": {},
   "outputs": [
    {
     "data": {
      "text/html": [
       "<div>\n",
       "<style scoped>\n",
       "    .dataframe tbody tr th:only-of-type {\n",
       "        vertical-align: middle;\n",
       "    }\n",
       "\n",
       "    .dataframe tbody tr th {\n",
       "        vertical-align: top;\n",
       "    }\n",
       "\n",
       "    .dataframe thead th {\n",
       "        text-align: right;\n",
       "    }\n",
       "</style>\n",
       "<table border=\"1\" class=\"dataframe\">\n",
       "  <thead>\n",
       "    <tr style=\"text-align: right;\">\n",
       "      <th></th>\n",
       "      <th>delito</th>\n",
       "      <th>categoria_delito</th>\n",
       "      <th>fecha_hechos</th>\n",
       "      <th>Sexo</th>\n",
       "      <th>Edad</th>\n",
       "      <th>TipoPersona</th>\n",
       "      <th>CalidadJuridica</th>\n",
       "      <th>Geopoint</th>\n",
       "    </tr>\n",
       "  </thead>\n",
       "  <tbody>\n",
       "    <tr>\n",
       "      <td>145865</td>\n",
       "      <td>Lesiones culposas por caida de vehículo en mov...</td>\n",
       "      <td>Delito de bajo impacto</td>\n",
       "      <td>2019-09-20 03:30:00</td>\n",
       "      <td>Masculino</td>\n",
       "      <td>42.0</td>\n",
       "      <td>Fisica</td>\n",
       "      <td>Lesionado</td>\n",
       "      <td>19.3443909603,-99.0279509938</td>\n",
       "    </tr>\n",
       "    <tr>\n",
       "      <td>145866</td>\n",
       "      <td>Robo a transeunte en via publica con violencia</td>\n",
       "      <td>Robo a transeunte en vía pública con y sin vio...</td>\n",
       "      <td>2019-09-20 04:30:00</td>\n",
       "      <td>Masculino</td>\n",
       "      <td>45.0</td>\n",
       "      <td>Fisica</td>\n",
       "      <td>Victima y denunciante</td>\n",
       "      <td>19.3061992087,-98.9656925188</td>\n",
       "    </tr>\n",
       "    <tr>\n",
       "      <td>145867</td>\n",
       "      <td>Perdida de la vida por suicidio</td>\n",
       "      <td>Hecho no delictivo</td>\n",
       "      <td>2019-09-20 05:00:00</td>\n",
       "      <td>Masculino</td>\n",
       "      <td>33.0</td>\n",
       "      <td>Fisica</td>\n",
       "      <td>Cadaver</td>\n",
       "      <td>19.4102934856,-99.1622807104</td>\n",
       "    </tr>\n",
       "    <tr>\n",
       "      <td>145868</td>\n",
       "      <td>Homicidio por arma blanca</td>\n",
       "      <td>Homicidio doloso</td>\n",
       "      <td>2019-09-20 04:00:00</td>\n",
       "      <td>Masculino</td>\n",
       "      <td>27.0</td>\n",
       "      <td>Fisica</td>\n",
       "      <td>Cadaver</td>\n",
       "      <td>19.3223447722,-99.0427655635</td>\n",
       "    </tr>\n",
       "    <tr>\n",
       "      <td>145869</td>\n",
       "      <td>Lesiones culposas</td>\n",
       "      <td>Delito de bajo impacto</td>\n",
       "      <td>2019-09-18 07:20:00</td>\n",
       "      <td>Femenino</td>\n",
       "      <td>5.0</td>\n",
       "      <td>Fisica</td>\n",
       "      <td>Lesionado</td>\n",
       "      <td>NaN</td>\n",
       "    </tr>\n",
       "  </tbody>\n",
       "</table>\n",
       "</div>"
      ],
      "text/plain": [
       "                                                   delito  \\\n",
       "145865  Lesiones culposas por caida de vehículo en mov...   \n",
       "145866     Robo a transeunte en via publica con violencia   \n",
       "145867                    Perdida de la vida por suicidio   \n",
       "145868                          Homicidio por arma blanca   \n",
       "145869                                  Lesiones culposas   \n",
       "\n",
       "                                         categoria_delito        fecha_hechos  \\\n",
       "145865                             Delito de bajo impacto 2019-09-20 03:30:00   \n",
       "145866  Robo a transeunte en vía pública con y sin vio... 2019-09-20 04:30:00   \n",
       "145867                                 Hecho no delictivo 2019-09-20 05:00:00   \n",
       "145868                                   Homicidio doloso 2019-09-20 04:00:00   \n",
       "145869                             Delito de bajo impacto 2019-09-18 07:20:00   \n",
       "\n",
       "             Sexo  Edad TipoPersona        CalidadJuridica  \\\n",
       "145865  Masculino  42.0      Fisica              Lesionado   \n",
       "145866  Masculino  45.0      Fisica  Victima y denunciante   \n",
       "145867  Masculino  33.0      Fisica                Cadaver   \n",
       "145868  Masculino  27.0      Fisica                Cadaver   \n",
       "145869   Femenino   5.0      Fisica              Lesionado   \n",
       "\n",
       "                            Geopoint  \n",
       "145865  19.3443909603,-99.0279509938  \n",
       "145866  19.3061992087,-98.9656925188  \n",
       "145867  19.4102934856,-99.1622807104  \n",
       "145868  19.3223447722,-99.0427655635  \n",
       "145869                           NaN  "
      ]
     },
     "execution_count": 6,
     "metadata": {},
     "output_type": "execute_result"
    }
   ],
   "source": [
    "df_victimas['delito'] = df_victimas['delito'].str.capitalize()\n",
    "df_victimas['categoria_delito'] = df_victimas['categoria_delito'].str.capitalize()\n",
    "df_victimas['TipoPersona'] = df_victimas['TipoPersona'].str.capitalize()\n",
    "df_victimas['CalidadJuridica'] = df_victimas['CalidadJuridica'].str.capitalize()\n",
    "df_victimas.tail()"
   ]
  },
  {
   "cell_type": "markdown",
   "metadata": {},
   "source": [
    "#### Eliminar datos fuera de rango"
   ]
  },
  {
   "cell_type": "code",
   "execution_count": 7,
   "metadata": {},
   "outputs": [],
   "source": [
    "df_victimas = df_victimas.loc[~df_victimas['categoria_delito'].isin(['Delito de bajo impacto','Hecho no delictivo'])]"
   ]
  },
  {
   "cell_type": "code",
   "execution_count": 8,
   "metadata": {},
   "outputs": [],
   "source": [
    "df_victimas = df_victimas[df_victimas['fecha_hechos'].dt.year>=2016]"
   ]
  },
  {
   "cell_type": "code",
   "execution_count": 9,
   "metadata": {},
   "outputs": [],
   "source": [
    "df_victimas.loc[df_victimas['Edad']>=100,'Edad'] = nan"
   ]
  },
  {
   "cell_type": "code",
   "execution_count": 10,
   "metadata": {},
   "outputs": [],
   "source": [
    "df_victimas['Sexo'] = df_victimas['Sexo'].replace({'No se especifica',nan})"
   ]
  },
  {
   "cell_type": "markdown",
   "metadata": {},
   "source": [
    "#### Datos faltantes"
   ]
  },
  {
   "cell_type": "markdown",
   "metadata": {},
   "source": [
    "#### Guardar datos"
   ]
  },
  {
   "cell_type": "code",
   "execution_count": 11,
   "metadata": {},
   "outputs": [],
   "source": [
    "from joblib import dump\n",
    "\n",
    "with open('../data-clean/VictimasPgjCdmx-AltoImpacto.pkl', 'wb') as f:\n",
    "    dump(df_victimas, f)"
   ]
  }
 ],
 "metadata": {
  "kernelspec": {
   "display_name": "Python 3",
   "language": "python",
   "name": "python3"
  },
  "language_info": {
   "codemirror_mode": {
    "name": "ipython",
    "version": 3
   },
   "file_extension": ".py",
   "mimetype": "text/x-python",
   "name": "python",
   "nbconvert_exporter": "python",
   "pygments_lexer": "ipython3",
   "version": "3.7.4"
  }
 },
 "nbformat": 4,
 "nbformat_minor": 4
}
